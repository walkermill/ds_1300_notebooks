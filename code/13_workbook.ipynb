{
 "cells": [
  {
   "cell_type": "markdown",
   "id": "a32b11ba",
   "metadata": {},
   "source": [
    "# Optimization Introduction\n",
    "\n",
    "Optimization problems attempt to solve for the optimal solution to a given problem that in general have:\n",
    "1. An **objective** function that should be taken to its maximum or minimum.\n",
    "2. A **set of constraints** that set boundaries for the problem."
   ]
  },
  {
   "cell_type": "markdown",
   "id": "94a3b3e5",
   "metadata": {},
   "source": [
    "## Knapsack Problems\n",
    "\n",
    "A very common class of optimiztion problems are know generally known as **knapsack problems**. At their most basic these problems have datasets composed items with values and weights (costs). Examples could include a grocery shopping list maximizing what you can get for a certain amount of money or diversifying a stock portfolio to maximize the total value, or even what burglar should choose to carry out a house. "
   ]
  },
  {
   "cell_type": "markdown",
   "id": "f6b6f163",
   "metadata": {},
   "source": [
    "### Greedy Algorithms\n",
    "\n",
    "Greedy algorithms find approximate solutions, but are generaly fast at providing *a* solution. However, the solution provided may not be the optimal solution."
   ]
  },
  {
   "cell_type": "code",
   "execution_count": null,
   "id": "2691a81c",
   "metadata": {},
   "outputs": [],
   "source": [
    "import numpy as np\n",
    "import pandas as pd\n",
    "import locale\n",
    "locale.setlocale(locale.LC_ALL, 'en_US')\n",
    "datasets = {'small': (50, \"small\"), 'large': (100, \"large\"), 'very_large': (190, \"very_large\")}"
   ]
  },
  {
   "cell_type": "code",
   "execution_count": null,
   "id": "c1144225",
   "metadata": {},
   "outputs": [],
   "source": [
    "dataset = \"small\"\n",
    "size = datasets[dataset][0]\n",
    "data = pd.read_csv(\"../data/{}.csv\".format(datasets[dataset][1]), names=[\"Value\", \"Weight\"])\n",
    "data['Name'] = np.arange(len(data))\n",
    "data = data[['Name', 'Value', 'Weight']]\n",
    "data.head()"
   ]
  },
  {
   "cell_type": "code",
   "execution_count": null,
   "id": "0b7e393d",
   "metadata": {},
   "outputs": [],
   "source": [
    "names = data.Name.to_list()\n",
    "values = data.Value.to_list()\n",
    "weights = data.Weight.to_list()"
   ]
  },
  {
   "cell_type": "code",
   "execution_count": null,
   "id": "fc899f3e",
   "metadata": {},
   "outputs": [],
   "source": [
    "class Item(object):\n",
    "    def __init__(self, n, v, w):\n",
    "        self._name = n\n",
    "        self._value = v\n",
    "        self._weight = w\n",
    "    def get_name(self):\n",
    "        return self._name\n",
    "    def get_value(self):\n",
    "        return self._value\n",
    "    def get_weight(self):\n",
    "        return self._weight\n",
    "    def __str__(self):\n",
    "        return f'<{self._name}, {self._value}, {self._weight}>'\n",
    "\n",
    "def value(item):\n",
    "    return item.get_value()\n",
    "\n",
    "def weight_inverse(item):\n",
    "    return 1.0/item.get_weight()\n",
    "\n",
    "def density(item):\n",
    "    return item.get_value()/item.get_weight()\n",
    "\n",
    "def pretty_print(result, total_value):\n",
    "    names = []\n",
    "    values = []\n",
    "    weights = []\n",
    "    for r in result:\n",
    "        names.append(r.get_name())\n",
    "        values.append(r.get_value())\n",
    "        weights.append(r.get_weight())\n",
    "    d = {'Name': names, 'Value': values, 'Weight': weights}\n",
    "    df = pd.DataFrame.from_dict(d)\n",
    "    display(df.head(len(result)))\n",
    "    print(\"Total Value: {}\".format(locale.currency(total_value, grouping=True)))\n",
    "\n",
    "def build_items(names, values, weights):\n",
    "    Items = []\n",
    "    for i in range(len(values)):\n",
    "        Items.append(Item(names[i], values[i], weights[i]))\n",
    "    return Items"
   ]
  },
  {
   "cell_type": "code",
   "execution_count": null,
   "id": "e68a673d",
   "metadata": {},
   "outputs": [],
   "source": [
    "items = build_items(names, values, weights)"
   ]
  },
  {
   "cell_type": "code",
   "execution_count": null,
   "id": "1d7fd002",
   "metadata": {},
   "outputs": [],
   "source": [
    "def greedy(items, max_weight, key_function):\n",
    "    \"\"\"Assumes items a list, max_weight >= 0,\n",
    "       key_function maps elements of items to numbers\"\"\"\n",
    "    items_copy = sorted(items, key=key_function, reverse = True)\n",
    "    result = []\n",
    "    total_value, total_weight = 0.0, 0.0\n",
    "    for i in range(len(items_copy)):\n",
    "        if (total_weight + items_copy[i].get_weight()) <= max_weight:\n",
    "            result.append(items_copy[i])\n",
    "            total_weight += items_copy[i].get_weight()\n",
    "            total_value += items_copy[i].get_value()\n",
    "    pretty_print(result, total_value)"
   ]
  },
  {
   "cell_type": "code",
   "execution_count": null,
   "id": "3061aebf",
   "metadata": {},
   "outputs": [],
   "source": [
    "%%time\n",
    "greedy(items, size, value)"
   ]
  },
  {
   "cell_type": "code",
   "execution_count": null,
   "id": "320153f3",
   "metadata": {},
   "outputs": [],
   "source": [
    "%%time\n",
    "greedy(items, size, weight_inverse)"
   ]
  },
  {
   "cell_type": "code",
   "execution_count": null,
   "id": "be3283cc",
   "metadata": {},
   "outputs": [],
   "source": [
    "%%time\n",
    "greedy(items, size, density)"
   ]
  },
  {
   "cell_type": "markdown",
   "id": "f896f07d",
   "metadata": {},
   "source": [
    "### Optimal Solution\n",
    "\n",
    "The optimization case above is specifically called a **0/1 knapsack problem** and is defined by:\n",
    "1. Each item has a value and a weight.\n",
    "2. The solution can only be found for a finite weight.\n",
    "3. A list (I) of finite length contains all the items.\n",
    "4. A list (V) of finite length contains all the selected items.\n",
    "5. Maximize:"
   ]
  },
  {
   "cell_type": "markdown",
   "id": "25fae2b9",
   "metadata": {},
   "source": [
    "$$\n",
    "\\sum_{i=0}^{n-1}V_{i}I_{i}^{value}\n",
    "$$"
   ]
  },
  {
   "cell_type": "markdown",
   "id": "824cafd1",
   "metadata": {},
   "source": [
    "$$\n",
    "\\sum_{i=0}^{n-1}V_{i}I_{i}^{weight} \\leq w\n",
    "$$"
   ]
  },
  {
   "cell_type": "markdown",
   "id": "2d5746a3",
   "metadata": {},
   "source": [
    "To do this:\n",
    "1. Get all possible combinations of items.\n",
    "2. Remove all sets that violate the constraints.\n",
    "3. Sort and chose the set with the maximal value.\n",
    "\n",
    "Note that this method quickly becomes intractable for large numbers of items."
   ]
  },
  {
   "cell_type": "code",
   "execution_count": null,
   "id": "cd9f19e1",
   "metadata": {},
   "outputs": [],
   "source": [
    "def get_binary_rep(n, num_digits):\n",
    "    result = ''\n",
    "    while n > 0:\n",
    "        result = str(n%2) + result\n",
    "        n = n//2\n",
    "    if len(result) > num_digits:\n",
    "        raise ValueError('not enough digits')\n",
    "    for i in range(num_digits - len(result)):\n",
    "        result = '0' + result\n",
    "    return result\n",
    "\n",
    "def gen_powerset(L):\n",
    "    powerset = []\n",
    "    for i in range(0, 2**len(L)):\n",
    "        bin_str = get_binary_rep(i, len(L))\n",
    "        subset = []\n",
    "        for j in range(len(L)):\n",
    "            if bin_str[j] == '1':\n",
    "                subset.append(L[j])\n",
    "        powerset.append(subset)\n",
    "    return powerset\n",
    "\n",
    "def choose_best(pset, max_weight, get_val, get_weight):\n",
    "    best_val = 0.0\n",
    "    best_set = None\n",
    "    for items in pset:\n",
    "        items_val = 0.0\n",
    "        items_weight = 0.0\n",
    "        for item in items:\n",
    "            items_val += get_val(item)\n",
    "            items_weight += get_weight(item)\n",
    "        if items_weight <= max_weight and items_val > best_val:\n",
    "            best_val = items_val\n",
    "            best_set = items\n",
    "    return (best_set, best_val)"
   ]
  },
  {
   "cell_type": "code",
   "execution_count": null,
   "id": "f2abf339",
   "metadata": {},
   "outputs": [],
   "source": [
    "def test_best(items, max_weight = 20):\n",
    "    pset = gen_powerset(items)\n",
    "    taken, val = choose_best(pset, max_weight, Item.get_value, Item.get_weight)\n",
    "    pretty_print(taken, val)"
   ]
  },
  {
   "cell_type": "code",
   "execution_count": null,
   "id": "a35f79d6",
   "metadata": {},
   "outputs": [],
   "source": [
    "%%time\n",
    "test_best(items, size)"
   ]
  },
  {
   "cell_type": "markdown",
   "id": "163941d3",
   "metadata": {},
   "source": [
    "## Dynamic Programming\n",
    "\n",
    "Broadly, dynamic programming is a set of programming methods for solving problems where the problem has the characteristics of **optimal substructure** and **overlapping subproblems**. The former means that the problem can be decomposed into smaller problems and that the finding the optimal solutions to the smaller problems will lead to a global optimal solution for the problem. The latter means that the smaller problems are all formulated in the same way, i.e. they are are all the same."
   ]
  },
  {
   "cell_type": "markdown",
   "id": "dd36687e",
   "metadata": {},
   "source": [
    "### Fibonacci Sequences"
   ]
  },
  {
   "cell_type": "code",
   "execution_count": null,
   "id": "f2d36eb3",
   "metadata": {},
   "outputs": [],
   "source": [
    "def fib(n):\n",
    "    \"\"\"Assumes n is an int >= 0\n",
    "       Returns Fibonacci of n\"\"\"\n",
    "    if n == 0 or n == 1:\n",
    "        return 1\n",
    "    else:\n",
    "        return fib(n-1) + fib(n-2)"
   ]
  },
  {
   "cell_type": "code",
   "execution_count": null,
   "id": "511bf736",
   "metadata": {},
   "outputs": [],
   "source": [
    "%%time\n",
    "fib(40)"
   ]
  },
  {
   "cell_type": "markdown",
   "id": "4b88675e",
   "metadata": {},
   "source": [
    "The above version of the algorithm contantly reevaluates `fib` rather than reuse values it has already calculated. This is simple implementation, but doing just `fib(120)` would end up calling `fib` 8,670,007,398,507,948,658,051,921 times. If each call only took one nanosecond we'd get our solution in about 250,000 years.\n",
    "\n",
    "Below we employ **memoziation**, which is basically just remembering work that has come before."
   ]
  },
  {
   "cell_type": "code",
   "execution_count": null,
   "id": "7b06cfc5",
   "metadata": {},
   "outputs": [],
   "source": [
    "def fib_memo(n, memo = None):\n",
    "    \"\"\"Assumes n is an int >= 0, memo used only by recursive calls\n",
    "       Returns Fibonacci of n\"\"\"\n",
    "    if memo == None:\n",
    "        memo = {}\n",
    "    if n == 0 or n == 1:\n",
    "        return 1\n",
    "    try:\n",
    "        return memo[n]\n",
    "    except KeyError:\n",
    "        result = fib_memo(n-1, memo) + fib_memo(n-2, memo)\n",
    "        memo[n] = result\n",
    "        return result"
   ]
  },
  {
   "cell_type": "code",
   "execution_count": null,
   "id": "733eff2b",
   "metadata": {},
   "outputs": [],
   "source": [
    "%%time\n",
    "fib_memo(40)"
   ]
  },
  {
   "cell_type": "markdown",
   "id": "22d3c959",
   "metadata": {},
   "source": [
    "### Solving the 0/1 Knapsack Problem Using Dynamic Programming\n",
    "\n",
    "Thinking back on our previous attempts to solve our knapsack problem, the greedy algorithm finds a solution in $log\\ n$ time, but that solution may not be optimal, and the brute-force, exhaustive alogirhtm would give use an optimal solution, but in $O(n2^{n})$, i.e. exponetial time. Is there a better way?\n",
    "\n",
    "Using dynamic programming methods we can optimally search through the space of possible solutions as if it were a tree. In the case of the 0/1 knapsack problem, the tree is what is called a **rooted binary tree**, which is an acyclic directed graph with the following properties:\n",
    "1. The graph as one root node that has no parent nodes.\n",
    "2. Other thant the root node, all nodes have exactly on parent.\n",
    "3. Each node only has two children at most.\n",
    "\n",
    "For the problem specifically we have:\n",
    "1. A list that contains all the items.\n",
    "2. A list that contains all the not yet selected items.\n",
    "3. The total value of the selected items.\n",
    "4. The remaining value within which items can be selected.\n",
    "\n",
    "As each edge connecting the nodes represents whether or not an item is taken these trees are also called **decision trees**."
   ]
  },
  {
   "cell_type": "code",
   "execution_count": null,
   "id": "d0d459f3",
   "metadata": {},
   "outputs": [],
   "source": [
    "def max_val(to_consider, avail):\n",
    "    \"\"\"Assumes to_consider a list of items, avail a weight\n",
    "       Returns a tuple of the total value of a solution to the\n",
    "         0/1 knapsack problem and the items of that solution\"\"\"\n",
    "    if to_consider == [] or avail == 0:\n",
    "        result = (0, ())\n",
    "    elif to_consider[0].get_weight() > avail:\n",
    "        #Explore right branch only\n",
    "        result = max_val(to_consider[1:], avail)\n",
    "    else:\n",
    "        next_item = to_consider[0]\n",
    "        #Explore left branch\n",
    "        with_val, with_to_take = max_val(to_consider[1:],\n",
    "                                     avail - next_item.get_weight())\n",
    "        with_val += next_item.get_value()\n",
    "        #Explore right branch\n",
    "        without_val, without_to_take = max_val(to_consider[1:], avail)\n",
    "        #Choose better branch\n",
    "        if with_val > without_val:\n",
    "            result = (with_val, with_to_take + (next_item,))\n",
    "        else:\n",
    "            result = (without_val, without_to_take)\n",
    "    return result\n",
    "\n",
    "def dynamic(items, max_weight):\n",
    "    result = max_val(items, max_weight)\n",
    "    pretty_print(list(result[1]), result[0])"
   ]
  },
  {
   "cell_type": "code",
   "execution_count": null,
   "id": "b664222c",
   "metadata": {},
   "outputs": [],
   "source": [
    "%%time\n",
    "dynamic(items, size)"
   ]
  },
  {
   "cell_type": "markdown",
   "id": "f482dacc",
   "metadata": {},
   "source": [
    "The above implementation used recursion directly just as with our `fib` implementation. Likewise, memoziation can also be used to improve performance."
   ]
  },
  {
   "cell_type": "code",
   "execution_count": null,
   "id": "78fb54c6",
   "metadata": {},
   "outputs": [],
   "source": [
    "def fast_max_val(to_consider, avail, memo = {}):\n",
    "    \"\"\"Assumes to_consider a list of items, avail a weight\n",
    "         memo supplied by recursive calls\n",
    "       Returns a tuple of the total value of a solution to the\n",
    "         0/1 knapsack problem and the items of that solution\"\"\"\n",
    "    if (len(to_consider), avail) in memo:\n",
    "        result = memo[(len(to_consider), avail)]\n",
    "    elif to_consider == [] or avail == 0:\n",
    "        result = (0, ())\n",
    "    elif to_consider[0].get_weight() > avail:\n",
    "        #Explore right branch only\n",
    "        result = fast_max_val(to_consider[1:], avail, memo)\n",
    "    else:\n",
    "        next_item = to_consider[0]\n",
    "        #Explore left branch\n",
    "        with_val, with_to_take =\\\n",
    "                 fast_max_val(to_consider[1:],\n",
    "                            avail - next_item.get_weight(), memo)\n",
    "        with_val += next_item.get_value()\n",
    "        #Explore right branch\n",
    "        without_val, without_to_take = fast_max_val(to_consider[1:],\n",
    "                                                avail, memo)\n",
    "        #Choose better branch\n",
    "        if with_val > without_val:\n",
    "            result = (with_val, with_to_take + (next_item,))\n",
    "        else:\n",
    "            result = (without_val, without_to_take)\n",
    "    memo[(len(to_consider), avail)] = result\n",
    "    return result\n",
    "\n",
    "def dynamic_memo(items, max_weight):\n",
    "    result = fast_max_val(items, max_weight)\n",
    "    pretty_print(list(result[1]), result[0])"
   ]
  },
  {
   "cell_type": "code",
   "execution_count": null,
   "id": "a8f9927c",
   "metadata": {},
   "outputs": [],
   "source": [
    "%%time\n",
    "dynamic_memo(items, size)"
   ]
  },
  {
   "cell_type": "markdown",
   "id": "9b390e9f",
   "metadata": {},
   "source": [
    "## References\n",
    "\n",
    "1. Example code derived from [Introduction to Computation and Programming Using Python](https://github.com/guttag/Intro-to-Computation-and-Programming).\n",
    "2. Example data derived from [D-Wave Examples](https://github.com/dwave-examples/knapsack)."
   ]
  }
 ],
 "metadata": {
  "jupytext": {
   "formats": "ipynb"
  },
  "kernelspec": {
   "display_name": "Python 3",
   "language": "python",
   "name": "python3"
  }
 },
 "nbformat": 4,
 "nbformat_minor": 5
}
